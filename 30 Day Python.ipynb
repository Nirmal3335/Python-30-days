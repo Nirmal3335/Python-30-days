{
 "cells": [
  {
   "cell_type": "markdown",
   "metadata": {},
   "source": [
    "#30 Day Python Rewind"
   ]
  },
  {
   "cell_type": "code",
   "execution_count": 1,
   "metadata": {},
   "outputs": [],
   "source": [
    "# Introduction\n",
    "# Day 1 - 30DaysOfPython Challenge"
   ]
  },
  {
   "cell_type": "code",
   "execution_count": 4,
   "metadata": {},
   "outputs": [
    {
     "name": "stdout",
     "output_type": "stream",
     "text": [
      "5\n",
      "1\n",
      "6\n",
      "1.5\n",
      "9\n",
      "1\n",
      "1\n",
      "<class 'int'>\n",
      "<class 'float'>\n",
      "<class 'complex'>\n",
      "<class 'str'>\n",
      "<class 'list'>\n",
      "<class 'dict'>\n",
      "<class 'set'>\n",
      "<class 'tuple'>\n",
      "<class 'bool'>\n",
      "<class 'bool'>\n"
     ]
    }
   ],
   "source": [
    "print(3 + 2)   # addition(+)\n",
    "print(3 - 2)   # subtraction(-)\n",
    "print(3 * 2)   # multiplication(*)\n",
    "print(3 / 2)   # division(/)\n",
    "print(3 ** 2)  # exponential(**)\n",
    "print(3 % 2)   # modulus(%)\n",
    "print(3 // 2)  # Floor division operator(//)\n",
    "\n",
    "# Checking data types\n",
    "\n",
    "print(type(10))                  # Int\n",
    "print(type(3.14))                # Float\n",
    "print(type(1 + 3j))              # Complex\n",
    "print(type('Nirmal'))          # String\n",
    "print(type([1, 2, 3]))           # List\n",
    "print(type({'name':'Nirmal'})) # Dictionary\n",
    "print(type({9.8, 3.14, 2.7}))    # Set\n",
    "print(type((9.8, 3.14, 2.7)))    # Tuple\n",
    "print(type(3 == 3))              # Bool\n",
    "print(type(3 >= 3))              # Bool"
   ]
  },
  {
   "cell_type": "markdown",
   "metadata": {},
   "source": [
    "#Built-in Functions"
   ]
  },
  {
   "cell_type": "markdown",
   "metadata": {},
   "source": [
    "Write a script that prompts the user to enter base and height of the triangle and calculate an area of this triangle (area = 0.5 x b x h)."
   ]
  },
  {
   "cell_type": "code",
   "execution_count": 14,
   "metadata": {},
   "outputs": [
    {
     "name": "stdout",
     "output_type": "stream",
     "text": [
      "The area of triangle is: 100.0\n"
     ]
    }
   ],
   "source": [
    "base = int(input(\"Enter the base value: \"))\n",
    "Hight = int(input(\"Enter the Hight value: \"))\n",
    "\n",
    "area = 0.5 * base * Hight\n",
    "\n",
    "print(f\"The area of triangle is:\", area)"
   ]
  },
  {
   "cell_type": "markdown",
   "metadata": {},
   "source": [
    "#Escape Sequences in Strings\n",
    "\n",
    "    ##\\n: new line\n",
    "    ##\\t: Tab means(8 spaces)\n",
    "    ##\\\\: Back slash\n",
    "    ##\\': Single quote (')\n",
    "    ##\\\": Double quote (\")"
   ]
  },
  {
   "cell_type": "code",
   "execution_count": 26,
   "metadata": {},
   "outputs": [
    {
     "name": "stdout",
     "output_type": "stream",
     "text": [
      "My Name is \n",
      "Nirmal\n",
      "Day\ttopic\tstatus\n",
      "1\tstring\tcompleted\n",
      "2\tlist\tcompleted\n",
      "1\ttuble\tcompleted\n",
      "this is frowardslash symbol \\\n",
      "I am start with \"Hello Word Program\"\n"
     ]
    }
   ],
   "source": [
    "print(\"My Name is \\nNirmal\")\n",
    "print(\"Day\\ttopic\\tstatus\")\n",
    "print('1\\tstring\\tcompleted')\n",
    "print('2\\tlist\\tcompleted')\n",
    "print('1\\ttuble\\tcompleted')\n",
    "print('this is frowardslash symbol \\\\')\n",
    "print('I am start with \\\"Hello Word Program\\\"')"
   ]
  },
  {
   "cell_type": "markdown",
   "metadata": {},
   "source": [
    "#F - String\n"
   ]
  },
  {
   "cell_type": "code",
   "execution_count": 32,
   "metadata": {},
   "outputs": [
    {
     "name": "stdout",
     "output_type": "stream",
     "text": [
      "4 + 3 = 7\n",
      "4 - 3 = 1\n",
      "4 / 3 = 1.33\n",
      "4 * 3 = 12\n",
      "4 ** 3 = 64\n"
     ]
    }
   ],
   "source": [
    "a = 4\n",
    "b = 3\n",
    "\n",
    "print(f\"{a} + {b} = {a+b}\")\n",
    "print(f\"{a} - {b} = {a-b}\")\n",
    "print(f\"{a} / {b} = {a/b:.2f}\")\n",
    "print(f\"{a} * {b} = {a*b}\")\n",
    "print(f\"{a} ** {b} = {a**b}\")\n"
   ]
  },
  {
   "cell_type": "markdown",
   "metadata": {},
   "source": [
    "#Indexing"
   ]
  },
  {
   "cell_type": "code",
   "execution_count": null,
   "metadata": {},
   "outputs": [
    {
     "name": "stdout",
     "output_type": "stream",
     "text": [
      "P\n",
      "5\n",
      "n\n"
     ]
    }
   ],
   "source": [
    "txt = \"Python\"\n",
    "first_letter = txt[0]\n",
    "print(first_letter)\n",
    "last_index = len(txt)-1\n",
    "print(last_index)\n",
    "last_letter = txt[last_index]\n",
    "print(last_letter)"
   ]
  },
  {
   "cell_type": "markdown",
   "metadata": {},
   "source": [
    "#Slicing"
   ]
  },
  {
   "cell_type": "code",
   "execution_count": 51,
   "metadata": {},
   "outputs": [
    {
     "name": "stdout",
     "output_type": "stream",
     "text": [
      "y\n",
      "n\n",
      "n\n",
      "tho\n",
      "[3, 5, 7]\n",
      "[1, 2, 3, 4]\n",
      "[5, 6, 7, 8, 9, 10]\n",
      "[1, 2, 3, 4, 5, 6, 7, 8, 9, 10]\n"
     ]
    }
   ],
   "source": [
    "print(txt[1])\n",
    "print(txt[5])\n",
    "print(txt[-1])\n",
    "print(txt[2:5])\n",
    "num = [1,2,3,4,5,6,7,8,9,10]\n",
    "print(num[2:8:2])\n",
    "print(num[:4])\n",
    "print(num[4:])\n",
    "print(num[::])"
   ]
  }
 ],
 "metadata": {
  "kernelspec": {
   "display_name": "Python 3",
   "language": "python",
   "name": "python3"
  },
  "language_info": {
   "codemirror_mode": {
    "name": "ipython",
    "version": 3
   },
   "file_extension": ".py",
   "mimetype": "text/x-python",
   "name": "python",
   "nbconvert_exporter": "python",
   "pygments_lexer": "ipython3",
   "version": "3.12.2"
  }
 },
 "nbformat": 4,
 "nbformat_minor": 2
}
