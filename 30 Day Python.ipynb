{
 "cells": [
  {
   "cell_type": "markdown",
   "metadata": {},
   "source": [
    "#30 Day Python Rewind"
   ]
  },
  {
   "cell_type": "code",
   "execution_count": 1,
   "metadata": {},
   "outputs": [],
   "source": [
    "# Introduction\n",
    "# Day 1 - 30DaysOfPython Challenge"
   ]
  },
  {
   "cell_type": "code",
   "execution_count": 4,
   "metadata": {},
   "outputs": [
    {
     "name": "stdout",
     "output_type": "stream",
     "text": [
      "5\n",
      "1\n",
      "6\n",
      "1.5\n",
      "9\n",
      "1\n",
      "1\n",
      "<class 'int'>\n",
      "<class 'float'>\n",
      "<class 'complex'>\n",
      "<class 'str'>\n",
      "<class 'list'>\n",
      "<class 'dict'>\n",
      "<class 'set'>\n",
      "<class 'tuple'>\n",
      "<class 'bool'>\n",
      "<class 'bool'>\n"
     ]
    }
   ],
   "source": [
    "print(3 + 2)   # addition(+)\n",
    "print(3 - 2)   # subtraction(-)\n",
    "print(3 * 2)   # multiplication(*)\n",
    "print(3 / 2)   # division(/)\n",
    "print(3 ** 2)  # exponential(**)\n",
    "print(3 % 2)   # modulus(%)\n",
    "print(3 // 2)  # Floor division operator(//)\n",
    "\n",
    "# Checking data types\n",
    "\n",
    "print(type(10))                  # Int\n",
    "print(type(3.14))                # Float\n",
    "print(type(1 + 3j))              # Complex\n",
    "print(type('Nirmal'))          # String\n",
    "print(type([1, 2, 3]))           # List\n",
    "print(type({'name':'Nirmal'})) # Dictionary\n",
    "print(type({9.8, 3.14, 2.7}))    # Set\n",
    "print(type((9.8, 3.14, 2.7)))    # Tuple\n",
    "print(type(3 == 3))              # Bool\n",
    "print(type(3 >= 3))              # Bool"
   ]
  },
  {
   "cell_type": "markdown",
   "metadata": {},
   "source": [
    "#Built-in Functions"
   ]
  },
  {
   "cell_type": "markdown",
   "metadata": {},
   "source": [
    "Write a script that prompts the user to enter base and height of the triangle and calculate an area of this triangle (area = 0.5 x b x h)."
   ]
  },
  {
   "cell_type": "code",
   "execution_count": 14,
   "metadata": {},
   "outputs": [
    {
     "name": "stdout",
     "output_type": "stream",
     "text": [
      "The area of triangle is: 100.0\n"
     ]
    }
   ],
   "source": [
    "base = int(input(\"Enter the base value: \"))\n",
    "Hight = int(input(\"Enter the Hight value: \"))\n",
    "\n",
    "area = 0.5 * base * Hight\n",
    "\n",
    "print(f\"The area of triangle is:\", area)"
   ]
  },
  {
   "cell_type": "markdown",
   "metadata": {},
   "source": [
    "#Escape Sequences in Strings\n",
    "\n",
    "    ##\\n: new line\n",
    "    ##\\t: Tab means(8 spaces)\n",
    "    ##\\\\: Back slash\n",
    "    ##\\': Single quote (')\n",
    "    ##\\\": Double quote (\")"
   ]
  },
  {
   "cell_type": "code",
   "execution_count": 26,
   "metadata": {},
   "outputs": [
    {
     "name": "stdout",
     "output_type": "stream",
     "text": [
      "My Name is \n",
      "Nirmal\n",
      "Day\ttopic\tstatus\n",
      "1\tstring\tcompleted\n",
      "2\tlist\tcompleted\n",
      "1\ttuble\tcompleted\n",
      "this is frowardslash symbol \\\n",
      "I am start with \"Hello Word Program\"\n"
     ]
    }
   ],
   "source": [
    "print(\"My Name is \\nNirmal\")\n",
    "print(\"Day\\ttopic\\tstatus\")\n",
    "print('1\\tstring\\tcompleted')\n",
    "print('2\\tlist\\tcompleted')\n",
    "print('1\\ttuble\\tcompleted')\n",
    "print('this is frowardslash symbol \\\\')\n",
    "print('I am start with \\\"Hello Word Program\\\"')"
   ]
  },
  {
   "cell_type": "markdown",
   "metadata": {},
   "source": [
    "#F - String\n"
   ]
  },
  {
   "cell_type": "code",
   "execution_count": 32,
   "metadata": {},
   "outputs": [
    {
     "name": "stdout",
     "output_type": "stream",
     "text": [
      "4 + 3 = 7\n",
      "4 - 3 = 1\n",
      "4 / 3 = 1.33\n",
      "4 * 3 = 12\n",
      "4 ** 3 = 64\n"
     ]
    }
   ],
   "source": [
    "a = 4\n",
    "b = 3\n",
    "\n",
    "print(f\"{a} + {b} = {a+b}\")\n",
    "print(f\"{a} - {b} = {a-b}\")\n",
    "print(f\"{a} / {b} = {a/b:.2f}\")\n",
    "print(f\"{a} * {b} = {a*b}\")\n",
    "print(f\"{a} ** {b} = {a**b}\")\n"
   ]
  },
  {
   "cell_type": "markdown",
   "metadata": {},
   "source": [
    "#Indexing"
   ]
  },
  {
   "cell_type": "code",
   "execution_count": null,
   "metadata": {},
   "outputs": [
    {
     "name": "stdout",
     "output_type": "stream",
     "text": [
      "P\n",
      "5\n",
      "n\n"
     ]
    }
   ],
   "source": [
    "txt = \"Python\"\n",
    "first_letter = txt[0]\n",
    "print(first_letter)\n",
    "last_index = len(txt)-1\n",
    "print(last_index)\n",
    "last_letter = txt[last_index]\n",
    "print(last_letter)"
   ]
  },
  {
   "cell_type": "markdown",
   "metadata": {},
   "source": [
    "#Slicing"
   ]
  },
  {
   "cell_type": "code",
   "execution_count": 51,
   "metadata": {},
   "outputs": [
    {
     "name": "stdout",
     "output_type": "stream",
     "text": [
      "y\n",
      "n\n",
      "n\n",
      "tho\n",
      "[3, 5, 7]\n",
      "[1, 2, 3, 4]\n",
      "[5, 6, 7, 8, 9, 10]\n",
      "[1, 2, 3, 4, 5, 6, 7, 8, 9, 10]\n"
     ]
    }
   ],
   "source": [
    "print(txt[1])\n",
    "print(txt[5])\n",
    "print(txt[-1])\n",
    "print(txt[2:5])\n",
    "num = [1,2,3,4,5,6,7,8,9,10]\n",
    "print(num[2:8:2])\n",
    "print(num[:4])\n",
    "print(num[4:])\n",
    "print(num[::])"
   ]
  },
  {
   "cell_type": "markdown",
   "metadata": {},
   "source": [
    "#dictionary"
   ]
  },
  {
   "cell_type": "markdown",
   "metadata": {},
   "source": [
    "#Sort dictionary"
   ]
  },
  {
   "cell_type": "code",
   "execution_count": 5,
   "metadata": {},
   "outputs": [
    {
     "name": "stdout",
     "output_type": "stream",
     "text": [
      "{'rajnish': 9, 'ravi': 10, 'sanjeev': 15}\n"
     ]
    }
   ],
   "source": [
    "d = {'ravi': 10, 'rajnish': 9, 'sanjeev': 15}\n",
    "\n",
    "myKeys = list(d.keys())\n",
    "myKeys.sort()\n",
    "\n",
    "sorted_dictionary = {i:d[i] for i in myKeys}\n",
    "print(sorted_dictionary)"
   ]
  },
  {
   "cell_type": "code",
   "execution_count": 8,
   "metadata": {},
   "outputs": [
    {
     "name": "stdout",
     "output_type": "stream",
     "text": [
      "rajnish ravi sanjeev "
     ]
    }
   ],
   "source": [
    "for i in sorted(d.keys()):\n",
    "    print(i, end=\" \")"
   ]
  },
  {
   "cell_type": "markdown",
   "metadata": {},
   "source": [
    "#Sorting Dictionary By Value using sorted() method"
   ]
  },
  {
   "cell_type": "code",
   "execution_count": 18,
   "metadata": {},
   "outputs": [
    {
     "name": "stdout",
     "output_type": "stream",
     "text": [
      "{'watermelon': 1, 'apple': 2, 'banana': 3, 'kivi': 5}\n",
      "{'kivi': 5, 'banana': 3, 'apple': 2, 'watermelon': 1}\n"
     ]
    }
   ],
   "source": [
    "d2 = {'watermelon': 1, 'apple': 2, 'kivi':5, 'banana': 3} \n",
    "\n",
    "val_sorted = {k:v for k,v in sorted(d2.items(), key=lambda item:item[1])}\n",
    "\n",
    "print(val_sorted)\n",
    "\n",
    "\n",
    "val_sorted_desc = {k:v for k,v in sorted(d2.items(), key=lambda item:item[1], reverse=True)}\n",
    "print(val_sorted_desc)"
   ]
  },
  {
   "cell_type": "code",
   "execution_count": 22,
   "metadata": {},
   "outputs": [
    {
     "data": {
      "text/plain": [
       "600"
      ]
     },
     "execution_count": 22,
     "metadata": {},
     "output_type": "execute_result"
    }
   ],
   "source": [
    "d = {'a': 100, 'b': 200, 'c': 300}\n",
    "\n",
    "res = sum([d[key] for key in d])\n",
    "res"
   ]
  },
  {
   "cell_type": "markdown",
   "metadata": {},
   "source": [
    "#Ways to sort list of dictionaries by values in Python – Using itemgetter"
   ]
  },
  {
   "cell_type": "code",
   "execution_count": 26,
   "metadata": {},
   "outputs": [
    {
     "name": "stdout",
     "output_type": "stream",
     "text": [
      "[{'name': 'Nandini', 'age': 20}, {'name': 'Manjeet', 'age': 25}, {'name': 'Nikhil', 'age': 19}]\n",
      "[{'name': 'Nikhil', 'age': 19}, {'name': 'Nandini', 'age': 20}, {'name': 'Manjeet', 'age': 25}]\n",
      "------------------------------------------------------------------------------------------\n",
      "[{'name': 'Nandini', 'age': 20}, {'name': 'Manjeet', 'age': 25}, {'name': 'Nikhil', 'age': 19}]\n",
      "[{'name': 'Manjeet', 'age': 25}, {'name': 'Nandini', 'age': 20}, {'name': 'Nikhil', 'age': 19}]\n"
     ]
    }
   ],
   "source": [
    "from operator import itemgetter\n",
    "\n",
    "data_list = [{\"name\": \"Nandini\", \"age\": 20},\n",
    "             {\"name\": \"Manjeet\", \"age\": 25},\n",
    "             {\"name\": \"Nikhil\", \"age\": 19}]\n",
    "\n",
    "print(data_list)\n",
    "print(sorted(data_list, key=itemgetter(\"age\")))\n",
    "\n",
    "print('------------------------------------------------------------------------------------------')\n",
    "\n",
    "print(data_list)\n",
    "print(sorted(data_list, key=itemgetter('age'), reverse=True))"
   ]
  },
  {
   "cell_type": "markdown",
   "metadata": {},
   "source": [
    "#Merging or Concatenating two Dictionaries in Python"
   ]
  },
  {
   "cell_type": "code",
   "execution_count": 31,
   "metadata": {},
   "outputs": [
    {
     "name": "stdout",
     "output_type": "stream",
     "text": [
      "{'x': 1, 'y': 3, 'z': 4}\n",
      "-------------------------------------------------------------------------------\n",
      "{'x': 1, 'y': 3, 'z': 4}\n"
     ]
    }
   ],
   "source": [
    "d1 = {'x': 1, 'y': 2}\n",
    "d2 = {'y': 3, 'z': 4}\n",
    "d3 = {}\n",
    "\n",
    "d3 = d1 | (d2)\n",
    "print(d3)\n",
    "\n",
    "print('-------------------------------------------------------------------------------')\n",
    "d4 = {**d1, **d2}\n",
    "print(d4)"
   ]
  },
  {
   "cell_type": "markdown",
   "metadata": {},
   "source": [
    "#Python – Convert key-values list to flat dictionary"
   ]
  },
  {
   "cell_type": "code",
   "execution_count": 37,
   "metadata": {},
   "outputs": [
    {
     "name": "stdout",
     "output_type": "stream",
     "text": [
      "{'name': 'Alice', 'age': 25, 'city': 'New York'}\n",
      "-------------------------------------------------------------------------------\n",
      "{'name': 'Alice', 'age': 25, 'city': 'New York'}\n"
     ]
    }
   ],
   "source": [
    "a = [(\"name\", \"Alice\"), (\"age\", 25), (\"city\", \"New York\")]\n",
    "\n",
    "print(dict(a))\n",
    "\n",
    "print('-------------------------------------------------------------------------------')\n",
    "\n",
    "res = {k:v for k,v in a}\n",
    "print(res)"
   ]
  },
  {
   "cell_type": "code",
   "execution_count": null,
   "metadata": {},
   "outputs": [],
   "source": []
  }
 ],
 "metadata": {
  "kernelspec": {
   "display_name": "Python 3",
   "language": "python",
   "name": "python3"
  },
  "language_info": {
   "codemirror_mode": {
    "name": "ipython",
    "version": 3
   },
   "file_extension": ".py",
   "mimetype": "text/x-python",
   "name": "python",
   "nbconvert_exporter": "python",
   "pygments_lexer": "ipython3",
   "version": "3.12.2"
  }
 },
 "nbformat": 4,
 "nbformat_minor": 2
}
